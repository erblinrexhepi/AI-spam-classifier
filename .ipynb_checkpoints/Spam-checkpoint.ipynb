{
 "cells": [
  {
   "cell_type": "code",
   "execution_count": 1,
   "id": "918d6ff1-d913-4e3a-9c93-987a7647cffd",
   "metadata": {},
   "outputs": [],
   "source": [
    "import numpy as nmp\n",
    "import pandas as pad"
   ]
  },
  {
   "cell_type": "code",
   "execution_count": 2,
   "id": "3ae4fc78-c79d-47f4-b25a-865426b5a6cf",
   "metadata": {},
   "outputs": [],
   "source": [
    "dfn = pad.read_csv('spam.csv', encoding='latin-1')"
   ]
  },
  {
   "cell_type": "code",
   "execution_count": 3,
   "id": "2aa533e5-e734-43d8-973b-d9d3682f2996",
   "metadata": {},
   "outputs": [
    {
     "data": {
      "text/html": [
       "<div>\n",
       "<style scoped>\n",
       "    .dataframe tbody tr th:only-of-type {\n",
       "        vertical-align: middle;\n",
       "    }\n",
       "\n",
       "    .dataframe tbody tr th {\n",
       "        vertical-align: top;\n",
       "    }\n",
       "\n",
       "    .dataframe thead th {\n",
       "        text-align: right;\n",
       "    }\n",
       "</style>\n",
       "<table border=\"1\" class=\"dataframe\">\n",
       "  <thead>\n",
       "    <tr style=\"text-align: right;\">\n",
       "      <th></th>\n",
       "      <th>v1</th>\n",
       "      <th>v2</th>\n",
       "      <th>Unnamed: 2</th>\n",
       "      <th>Unnamed: 3</th>\n",
       "      <th>Unnamed: 4</th>\n",
       "    </tr>\n",
       "  </thead>\n",
       "  <tbody>\n",
       "    <tr>\n",
       "      <th>722</th>\n",
       "      <td>legitime</td>\n",
       "      <td>That is wondar full flim.</td>\n",
       "      <td>NaN</td>\n",
       "      <td>NaN</td>\n",
       "      <td>NaN</td>\n",
       "    </tr>\n",
       "    <tr>\n",
       "      <th>205</th>\n",
       "      <td>legitime</td>\n",
       "      <td>ÌÏ say until like dat i dun buy ericsson oso c...</td>\n",
       "      <td>NaN</td>\n",
       "      <td>NaN</td>\n",
       "      <td>NaN</td>\n",
       "    </tr>\n",
       "    <tr>\n",
       "      <th>5012</th>\n",
       "      <td>legitime</td>\n",
       "      <td>Uncle G, just checking up on you. Do have a re...</td>\n",
       "      <td>NaN</td>\n",
       "      <td>NaN</td>\n",
       "      <td>NaN</td>\n",
       "    </tr>\n",
       "    <tr>\n",
       "      <th>378</th>\n",
       "      <td>legitime</td>\n",
       "      <td>Keep my payasam there if rinu brings</td>\n",
       "      <td>NaN</td>\n",
       "      <td>NaN</td>\n",
       "      <td>NaN</td>\n",
       "    </tr>\n",
       "    <tr>\n",
       "      <th>3093</th>\n",
       "      <td>legitime</td>\n",
       "      <td>Have you emigrated or something? Ok maybe 5.30...</td>\n",
       "      <td>NaN</td>\n",
       "      <td>NaN</td>\n",
       "      <td>NaN</td>\n",
       "    </tr>\n",
       "    <tr>\n",
       "      <th>860</th>\n",
       "      <td>legitime</td>\n",
       "      <td>In work now. Going have in few min.</td>\n",
       "      <td>NaN</td>\n",
       "      <td>NaN</td>\n",
       "      <td>NaN</td>\n",
       "    </tr>\n",
       "    <tr>\n",
       "      <th>188</th>\n",
       "      <td>legitime</td>\n",
       "      <td>Have you got Xmas radio times. If not i will g...</td>\n",
       "      <td>NaN</td>\n",
       "      <td>NaN</td>\n",
       "      <td>NaN</td>\n",
       "    </tr>\n",
       "  </tbody>\n",
       "</table>\n",
       "</div>"
      ],
      "text/plain": [
       "            v1                                                 v2 Unnamed: 2  \\\n",
       "722   legitime                          That is wondar full flim.        NaN   \n",
       "205   legitime  ÌÏ say until like dat i dun buy ericsson oso c...        NaN   \n",
       "5012  legitime  Uncle G, just checking up on you. Do have a re...        NaN   \n",
       "378   legitime               Keep my payasam there if rinu brings        NaN   \n",
       "3093  legitime  Have you emigrated or something? Ok maybe 5.30...        NaN   \n",
       "860   legitime                In work now. Going have in few min.        NaN   \n",
       "188   legitime  Have you got Xmas radio times. If not i will g...        NaN   \n",
       "\n",
       "     Unnamed: 3 Unnamed: 4  \n",
       "722         NaN        NaN  \n",
       "205         NaN        NaN  \n",
       "5012        NaN        NaN  \n",
       "378         NaN        NaN  \n",
       "3093        NaN        NaN  \n",
       "860         NaN        NaN  \n",
       "188         NaN        NaN  "
      ]
     },
     "execution_count": 3,
     "metadata": {},
     "output_type": "execute_result"
    }
   ],
   "source": [
    "dfn.sample(7)"
   ]
  },
  {
   "cell_type": "code",
   "execution_count": 4,
   "id": "896ed5a0-fc95-44de-b08d-2a8a7fdfce2f",
   "metadata": {},
   "outputs": [
    {
     "data": {
      "text/plain": [
       "(5569, 5)"
      ]
     },
     "execution_count": 4,
     "metadata": {},
     "output_type": "execute_result"
    }
   ],
   "source": [
    "dfn.shape"
   ]
  },
  {
   "cell_type": "code",
   "execution_count": 5,
   "id": "42bb1afc-4553-44c8-a9d4-8a5b4d0525d8",
   "metadata": {},
   "outputs": [
    {
     "name": "stdout",
     "output_type": "stream",
     "text": [
      "<class 'pandas.core.frame.DataFrame'>\n",
      "RangeIndex: 5569 entries, 0 to 5568\n",
      "Data columns (total 5 columns):\n",
      " #   Column      Non-Null Count  Dtype \n",
      "---  ------      --------------  ----- \n",
      " 0   v1          5569 non-null   object\n",
      " 1   v2          5569 non-null   object\n",
      " 2   Unnamed: 2  50 non-null     object\n",
      " 3   Unnamed: 3  12 non-null     object\n",
      " 4   Unnamed: 4  6 non-null      object\n",
      "dtypes: object(5)\n",
      "memory usage: 217.7+ KB\n"
     ]
    }
   ],
   "source": [
    "dfn.info()"
   ]
  },
  {
   "cell_type": "code",
   "execution_count": 6,
   "id": "fcbe3fca-2f18-442b-a374-210a7f5f8541",
   "metadata": {},
   "outputs": [],
   "source": [
    "dfn.drop(columns=['Unnamed: 2','Unnamed: 3','Unnamed: 4'],inplace=True)"
   ]
  },
  {
   "cell_type": "code",
   "execution_count": 7,
   "id": "b3774e94-24b1-4437-b427-05301ec48d34",
   "metadata": {},
   "outputs": [
    {
     "data": {
      "text/html": [
       "<div>\n",
       "<style scoped>\n",
       "    .dataframe tbody tr th:only-of-type {\n",
       "        vertical-align: middle;\n",
       "    }\n",
       "\n",
       "    .dataframe tbody tr th {\n",
       "        vertical-align: top;\n",
       "    }\n",
       "\n",
       "    .dataframe thead th {\n",
       "        text-align: right;\n",
       "    }\n",
       "</style>\n",
       "<table border=\"1\" class=\"dataframe\">\n",
       "  <thead>\n",
       "    <tr style=\"text-align: right;\">\n",
       "      <th></th>\n",
       "      <th>v1</th>\n",
       "      <th>v2</th>\n",
       "    </tr>\n",
       "  </thead>\n",
       "  <tbody>\n",
       "    <tr>\n",
       "      <th>4434</th>\n",
       "      <td>spam</td>\n",
       "      <td>Don't b floppy... b snappy &amp; happy! Only gay c...</td>\n",
       "    </tr>\n",
       "    <tr>\n",
       "      <th>3048</th>\n",
       "      <td>legitime</td>\n",
       "      <td>Lol they don't know about my awesome phone. I ...</td>\n",
       "    </tr>\n",
       "    <tr>\n",
       "      <th>715</th>\n",
       "      <td>legitime</td>\n",
       "      <td>When i have stuff to sell i.ll tell you</td>\n",
       "    </tr>\n",
       "  </tbody>\n",
       "</table>\n",
       "</div>"
      ],
      "text/plain": [
       "            v1                                                 v2\n",
       "4434      spam  Don't b floppy... b snappy & happy! Only gay c...\n",
       "3048  legitime  Lol they don't know about my awesome phone. I ...\n",
       "715   legitime            When i have stuff to sell i.ll tell you"
      ]
     },
     "execution_count": 7,
     "metadata": {},
     "output_type": "execute_result"
    }
   ],
   "source": [
    "dfn.sample(3)"
   ]
  },
  {
   "cell_type": "code",
   "execution_count": 8,
   "id": "b4a78022-f46d-4656-8b10-d9f6cacdb412",
   "metadata": {},
   "outputs": [
    {
     "data": {
      "text/html": [
       "<div>\n",
       "<style scoped>\n",
       "    .dataframe tbody tr th:only-of-type {\n",
       "        vertical-align: middle;\n",
       "    }\n",
       "\n",
       "    .dataframe tbody tr th {\n",
       "        vertical-align: top;\n",
       "    }\n",
       "\n",
       "    .dataframe thead th {\n",
       "        text-align: right;\n",
       "    }\n",
       "</style>\n",
       "<table border=\"1\" class=\"dataframe\">\n",
       "  <thead>\n",
       "    <tr style=\"text-align: right;\">\n",
       "      <th></th>\n",
       "      <th>Lloji</th>\n",
       "      <th>Tekst</th>\n",
       "    </tr>\n",
       "  </thead>\n",
       "  <tbody>\n",
       "    <tr>\n",
       "      <th>2106</th>\n",
       "      <td>legitime</td>\n",
       "      <td>Thank you. I like you as well...</td>\n",
       "    </tr>\n",
       "    <tr>\n",
       "      <th>3340</th>\n",
       "      <td>legitime</td>\n",
       "      <td>Still i have not checked it da. . .</td>\n",
       "    </tr>\n",
       "  </tbody>\n",
       "</table>\n",
       "</div>"
      ],
      "text/plain": [
       "         Lloji                                Tekst\n",
       "2106  legitime     Thank you. I like you as well...\n",
       "3340  legitime  Still i have not checked it da. . ."
      ]
     },
     "execution_count": 8,
     "metadata": {},
     "output_type": "execute_result"
    }
   ],
   "source": [
    "dfn.rename(columns={'v1':'Lloji','v2':'Tekst'},inplace=True)\n",
    "dfn.sample(2)"
   ]
  },
  {
   "cell_type": "code",
   "execution_count": 9,
   "id": "513a8fc3-cce4-453e-9a77-78551d883a2d",
   "metadata": {},
   "outputs": [],
   "source": [
    "from sklearn.preprocessing import LabelEncoder\n",
    "coder = LabelEncoder()"
   ]
  },
  {
   "cell_type": "code",
   "execution_count": 10,
   "id": "d38b4a10-f09f-4c43-8100-3885ef536392",
   "metadata": {},
   "outputs": [],
   "source": [
    "dfn['Lloji'] = coder.fit_transform(dfn['Lloji'])"
   ]
  },
  {
   "cell_type": "code",
   "execution_count": 11,
   "id": "e2dc6268-ae5c-4cf8-8f60-fe3e009639a7",
   "metadata": {},
   "outputs": [
    {
     "data": {
      "text/html": [
       "<div>\n",
       "<style scoped>\n",
       "    .dataframe tbody tr th:only-of-type {\n",
       "        vertical-align: middle;\n",
       "    }\n",
       "\n",
       "    .dataframe tbody tr th {\n",
       "        vertical-align: top;\n",
       "    }\n",
       "\n",
       "    .dataframe thead th {\n",
       "        text-align: right;\n",
       "    }\n",
       "</style>\n",
       "<table border=\"1\" class=\"dataframe\">\n",
       "  <thead>\n",
       "    <tr style=\"text-align: right;\">\n",
       "      <th></th>\n",
       "      <th>Lloji</th>\n",
       "      <th>Tekst</th>\n",
       "    </tr>\n",
       "  </thead>\n",
       "  <tbody>\n",
       "    <tr>\n",
       "      <th>3949</th>\n",
       "      <td>0</td>\n",
       "      <td>I got to video tape pple type in message lor. ...</td>\n",
       "    </tr>\n",
       "    <tr>\n",
       "      <th>3555</th>\n",
       "      <td>0</td>\n",
       "      <td>Ok lor. I'm in town now lei.</td>\n",
       "    </tr>\n",
       "    <tr>\n",
       "      <th>572</th>\n",
       "      <td>0</td>\n",
       "      <td>Can you open the door?</td>\n",
       "    </tr>\n",
       "  </tbody>\n",
       "</table>\n",
       "</div>"
      ],
      "text/plain": [
       "      Lloji                                              Tekst\n",
       "3949      0  I got to video tape pple type in message lor. ...\n",
       "3555      0                       Ok lor. I'm in town now lei.\n",
       "572       0                             Can you open the door?"
      ]
     },
     "execution_count": 11,
     "metadata": {},
     "output_type": "execute_result"
    }
   ],
   "source": [
    "dfn.sample(3)"
   ]
  },
  {
   "cell_type": "code",
   "execution_count": 12,
   "id": "6d2e208b-aa72-4e05-b923-6355dadb1f1c",
   "metadata": {},
   "outputs": [
    {
     "data": {
      "text/plain": [
       "403"
      ]
     },
     "execution_count": 12,
     "metadata": {},
     "output_type": "execute_result"
    }
   ],
   "source": [
    "dfn.duplicated().sum()"
   ]
  },
  {
   "cell_type": "code",
   "execution_count": 13,
   "id": "c88dc00e-fc91-4015-9cdc-58b00c0e9f27",
   "metadata": {},
   "outputs": [],
   "source": [
    "dfn = dfn.drop_duplicates(keep='first')"
   ]
  },
  {
   "cell_type": "code",
   "execution_count": 14,
   "id": "762e4055-db46-4af5-9ae8-7557d60e1524",
   "metadata": {},
   "outputs": [
    {
     "data": {
      "text/plain": [
       "0"
      ]
     },
     "execution_count": 14,
     "metadata": {},
     "output_type": "execute_result"
    }
   ],
   "source": [
    "dfn.duplicated().sum()"
   ]
  },
  {
   "cell_type": "code",
   "execution_count": 15,
   "id": "3c8e3387-8914-4ff4-924d-2a820a1df3a5",
   "metadata": {},
   "outputs": [
    {
     "data": {
      "text/plain": [
       "Lloji\n",
       "0    4513\n",
       "1     653\n",
       "Name: count, dtype: int64"
      ]
     },
     "execution_count": 15,
     "metadata": {},
     "output_type": "execute_result"
    }
   ],
   "source": [
    "dfn['Lloji'].value_counts()"
   ]
  },
  {
   "cell_type": "code",
   "execution_count": 16,
   "id": "edc67e49-367e-4e92-a0f5-04e145eb32b4",
   "metadata": {},
   "outputs": [
    {
     "data": {
      "image/png": "[encoded data removed]",
      "text/plain": [
       "<Figure size 640x480 with 1 Axes>"
      ]
     },
     "metadata": {},
     "output_type": "display_data"
    }
   ],
   "source": [
    "import matplotlib.pyplot as mplto\n",
    "mplto.pie(dfn['Lloji'].value_counts(), labels=['Legjitime','Spam'],autopct=\"%0.2f\")\n",
    "mplto.show()"
   ]
  },
  {
   "cell_type": "code",
   "execution_count": 17,
   "id": "f49777df-2159-4e0a-a902-ea1346265886",
   "metadata": {},
   "outputs": [
    {
     "name": "stderr",
     "output_type": "stream",
     "text": [
      "[nltk_data] Downloading package punkt to\n",
      "[nltk_data]     C:\\Users\\IT\\AppData\\Roaming\\nltk_data...\n",
      "[nltk_data]   Package punkt is already up-to-date!\n"
     ]
    },
    {
     "data": {
      "text/plain": [
       "True"
      ]
     },
     "execution_count": 17,
     "metadata": {},
     "output_type": "execute_result"
    }
   ],
   "source": [
    "import nltk\n",
    "nltk.download('punkt')"
   ]
  },
  {
   "cell_type": "code",
   "execution_count": 18,
   "id": "6f770555-cfa3-437d-86fc-cc2a581ecf6a",
   "metadata": {},
   "outputs": [],
   "source": [
    "dfn['Nr.karaktereve'] = dfn['Tekst'].apply(len)\n",
    "dfn['Nr.fjalëve'] = dfn['Tekst'].apply(lambda x:len(nltk.word_tokenize(x)))\n"
   ]
  },
  {
   "cell_type": "code",
   "execution_count": 19,
   "id": "374976d2-4f9f-4580-993d-fa317c7e4b9e",
   "metadata": {},
   "outputs": [],
   "source": [
    "dfn['Nr.fjalive'] = dfn['Tekst'].apply(lambda x:len(nltk.sent_tokenize(x)))"
   ]
  },
  {
   "cell_type": "code",
   "execution_count": 20,
   "id": "6dc0f46b-c2c4-40b5-a193-95598ee96e79",
   "metadata": {},
   "outputs": [
    {
     "data": {
      "text/html": [
       "<div>\n",
       "<style scoped>\n",
       "    .dataframe tbody tr th:only-of-type {\n",
       "        vertical-align: middle;\n",
       "    }\n",
       "\n",
       "    .dataframe tbody tr th {\n",
       "        vertical-align: top;\n",
       "    }\n",
       "\n",
       "    .dataframe thead th {\n",
       "        text-align: right;\n",
       "    }\n",
       "</style>\n",
       "<table border=\"1\" class=\"dataframe\">\n",
       "  <thead>\n",
       "    <tr style=\"text-align: right;\">\n",
       "      <th></th>\n",
       "      <th>Lloji</th>\n",
       "      <th>Tekst</th>\n",
       "      <th>Nr.karaktereve</th>\n",
       "      <th>Nr.fjalëve</th>\n",
       "      <th>Nr.fjalive</th>\n",
       "    </tr>\n",
       "  </thead>\n",
       "  <tbody>\n",
       "    <tr>\n",
       "      <th>0</th>\n",
       "      <td>0</td>\n",
       "      <td>Go until jurong point, crazy.. Available only ...</td>\n",
       "      <td>111</td>\n",
       "      <td>24</td>\n",
       "      <td>2</td>\n",
       "    </tr>\n",
       "    <tr>\n",
       "      <th>1</th>\n",
       "      <td>0</td>\n",
       "      <td>Ok lar... Joking wif u oni...</td>\n",
       "      <td>29</td>\n",
       "      <td>8</td>\n",
       "      <td>2</td>\n",
       "    </tr>\n",
       "    <tr>\n",
       "      <th>2</th>\n",
       "      <td>1</td>\n",
       "      <td>Free entry in 2 a wkly comp to win FA Cup fina...</td>\n",
       "      <td>155</td>\n",
       "      <td>37</td>\n",
       "      <td>2</td>\n",
       "    </tr>\n",
       "    <tr>\n",
       "      <th>3</th>\n",
       "      <td>0</td>\n",
       "      <td>U dun say so early hor... U c already then say...</td>\n",
       "      <td>49</td>\n",
       "      <td>13</td>\n",
       "      <td>1</td>\n",
       "    </tr>\n",
       "    <tr>\n",
       "      <th>4</th>\n",
       "      <td>0</td>\n",
       "      <td>Nah I don't think he goes to usf, he lives aro...</td>\n",
       "      <td>61</td>\n",
       "      <td>15</td>\n",
       "      <td>1</td>\n",
       "    </tr>\n",
       "  </tbody>\n",
       "</table>\n",
       "</div>"
      ],
      "text/plain": [
       "   Lloji                                              Tekst  Nr.karaktereve  \\\n",
       "0      0  Go until jurong point, crazy.. Available only ...             111   \n",
       "1      0                      Ok lar... Joking wif u oni...              29   \n",
       "2      1  Free entry in 2 a wkly comp to win FA Cup fina...             155   \n",
       "3      0  U dun say so early hor... U c already then say...              49   \n",
       "4      0  Nah I don't think he goes to usf, he lives aro...              61   \n",
       "\n",
       "   Nr.fjalëve  Nr.fjalive  \n",
       "0          24           2  \n",
       "1           8           2  \n",
       "2          37           2  \n",
       "3          13           1  \n",
       "4          15           1  "
      ]
     },
     "execution_count": 20,
     "metadata": {},
     "output_type": "execute_result"
    }
   ],
   "source": [
    "dfn.head()"
   ]
  },
  {
   "cell_type": "code",
   "execution_count": 21,
   "id": "5d56a94e-8734-4439-b8a5-b6f1a74d9d5a",
   "metadata": {},
   "outputs": [
    {
     "data": {
      "text/html": [
       "<div>\n",
       "<style scoped>\n",
       "    .dataframe tbody tr th:only-of-type {\n",
       "        vertical-align: middle;\n",
       "    }\n",
       "\n",
       "    .dataframe tbody tr th {\n",
       "        vertical-align: top;\n",
       "    }\n",
       "\n",
       "    .dataframe thead th {\n",
       "        text-align: right;\n",
       "    }\n",
       "</style>\n",
       "<table border=\"1\" class=\"dataframe\">\n",
       "  <thead>\n",
       "    <tr style=\"text-align: right;\">\n",
       "      <th></th>\n",
       "      <th>Nr.karaktereve</th>\n",
       "      <th>Nr.fjalëve</th>\n",
       "      <th>Nr.fjalive</th>\n",
       "    </tr>\n",
       "  </thead>\n",
       "  <tbody>\n",
       "    <tr>\n",
       "      <th>count</th>\n",
       "      <td>4513.000000</td>\n",
       "      <td>4513.000000</td>\n",
       "      <td>4513.000000</td>\n",
       "    </tr>\n",
       "    <tr>\n",
       "      <th>mean</th>\n",
       "      <td>70.489696</td>\n",
       "      <td>17.125637</td>\n",
       "      <td>1.820297</td>\n",
       "    </tr>\n",
       "    <tr>\n",
       "      <th>std</th>\n",
       "      <td>56.379476</td>\n",
       "      <td>13.496271</td>\n",
       "      <td>1.384058</td>\n",
       "    </tr>\n",
       "    <tr>\n",
       "      <th>min</th>\n",
       "      <td>2.000000</td>\n",
       "      <td>1.000000</td>\n",
       "      <td>1.000000</td>\n",
       "    </tr>\n",
       "    <tr>\n",
       "      <th>25%</th>\n",
       "      <td>34.000000</td>\n",
       "      <td>8.000000</td>\n",
       "      <td>1.000000</td>\n",
       "    </tr>\n",
       "    <tr>\n",
       "      <th>50%</th>\n",
       "      <td>52.000000</td>\n",
       "      <td>13.000000</td>\n",
       "      <td>1.000000</td>\n",
       "    </tr>\n",
       "    <tr>\n",
       "      <th>75%</th>\n",
       "      <td>90.000000</td>\n",
       "      <td>22.000000</td>\n",
       "      <td>2.000000</td>\n",
       "    </tr>\n",
       "    <tr>\n",
       "      <th>max</th>\n",
       "      <td>910.000000</td>\n",
       "      <td>220.000000</td>\n",
       "      <td>38.000000</td>\n",
       "    </tr>\n",
       "  </tbody>\n",
       "</table>\n",
       "</div>"
      ],
      "text/plain": [
       "       Nr.karaktereve   Nr.fjalëve   Nr.fjalive\n",
       "count     4513.000000  4513.000000  4513.000000\n",
       "mean        70.489696    17.125637     1.820297\n",
       "std         56.379476    13.496271     1.384058\n",
       "min          2.000000     1.000000     1.000000\n",
       "25%         34.000000     8.000000     1.000000\n",
       "50%         52.000000    13.000000     1.000000\n",
       "75%         90.000000    22.000000     2.000000\n",
       "max        910.000000   220.000000    38.000000"
      ]
     },
     "execution_count": 21,
     "metadata": {},
     "output_type": "execute_result"
    }
   ],
   "source": [
    "# legitime\n",
    "dfn[dfn['Lloji'] == 0][['Nr.karaktereve','Nr.fjalëve','Nr.fjalive']].describe()"
   ]
  },
  {
   "cell_type": "code",
   "execution_count": 22,
   "id": "54ff3b96-4591-444b-91d4-21487dd12417",
   "metadata": {},
   "outputs": [
    {
     "data": {
      "text/html": [
       "<div>\n",
       "<style scoped>\n",
       "    .dataframe tbody tr th:only-of-type {\n",
       "        vertical-align: middle;\n",
       "    }\n",
       "\n",
       "    .dataframe tbody tr th {\n",
       "        vertical-align: top;\n",
       "    }\n",
       "\n",
       "    .dataframe thead th {\n",
       "        text-align: right;\n",
       "    }\n",
       "</style>\n",
       "<table border=\"1\" class=\"dataframe\">\n",
       "  <thead>\n",
       "    <tr style=\"text-align: right;\">\n",
       "      <th></th>\n",
       "      <th>Nr.karaktereve</th>\n",
       "      <th>Nr.fjalëve</th>\n",
       "      <th>Nr.fjalive</th>\n",
       "    </tr>\n",
       "  </thead>\n",
       "  <tbody>\n",
       "    <tr>\n",
       "      <th>count</th>\n",
       "      <td>653.000000</td>\n",
       "      <td>653.000000</td>\n",
       "      <td>653.000000</td>\n",
       "    </tr>\n",
       "    <tr>\n",
       "      <th>mean</th>\n",
       "      <td>137.921899</td>\n",
       "      <td>27.667688</td>\n",
       "      <td>2.970904</td>\n",
       "    </tr>\n",
       "    <tr>\n",
       "      <th>std</th>\n",
       "      <td>30.154383</td>\n",
       "      <td>7.008418</td>\n",
       "      <td>1.488425</td>\n",
       "    </tr>\n",
       "    <tr>\n",
       "      <th>min</th>\n",
       "      <td>13.000000</td>\n",
       "      <td>2.000000</td>\n",
       "      <td>1.000000</td>\n",
       "    </tr>\n",
       "    <tr>\n",
       "      <th>25%</th>\n",
       "      <td>132.000000</td>\n",
       "      <td>25.000000</td>\n",
       "      <td>2.000000</td>\n",
       "    </tr>\n",
       "    <tr>\n",
       "      <th>50%</th>\n",
       "      <td>149.000000</td>\n",
       "      <td>29.000000</td>\n",
       "      <td>3.000000</td>\n",
       "    </tr>\n",
       "    <tr>\n",
       "      <th>75%</th>\n",
       "      <td>157.000000</td>\n",
       "      <td>32.000000</td>\n",
       "      <td>4.000000</td>\n",
       "    </tr>\n",
       "    <tr>\n",
       "      <th>max</th>\n",
       "      <td>224.000000</td>\n",
       "      <td>46.000000</td>\n",
       "      <td>9.000000</td>\n",
       "    </tr>\n",
       "  </tbody>\n",
       "</table>\n",
       "</div>"
      ],
      "text/plain": [
       "       Nr.karaktereve  Nr.fjalëve  Nr.fjalive\n",
       "count      653.000000  653.000000  653.000000\n",
       "mean       137.921899   27.667688    2.970904\n",
       "std         30.154383    7.008418    1.488425\n",
       "min         13.000000    2.000000    1.000000\n",
       "25%        132.000000   25.000000    2.000000\n",
       "50%        149.000000   29.000000    3.000000\n",
       "75%        157.000000   32.000000    4.000000\n",
       "max        224.000000   46.000000    9.000000"
      ]
     },
     "execution_count": 22,
     "metadata": {},
     "output_type": "execute_result"
    }
   ],
   "source": [
    "dfn[dfn['Lloji'] == 1][['Nr.karaktereve','Nr.fjalëve','Nr.fjalive']].describe()"
   ]
  },
  {
   "cell_type": "code",
   "execution_count": 23,
   "id": "bfd85679-0b01-4579-a7c5-3a51820c6778",
   "metadata": {},
   "outputs": [],
   "source": [
    "import seaborn as sear"
   ]
  },
  {
   "cell_type": "code",
   "execution_count": 24,
   "id": "33dc8a43-e9bf-441e-8871-129f76e29c1b",
   "metadata": {},
   "outputs": [
    {
     "data": {
      "text/plain": [
       "<Axes: xlabel='Nr.karaktereve', ylabel='Count'>"
      ]
     },
     "execution_count": 24,
     "metadata": {},
     "output_type": "execute_result"
    },
    {
     "data": {
      "image/png": "[encoded data removed]",
      "text/plain": [
       "<Figure size 600x300 with 1 Axes>"
      ]
     },
     "metadata": {},
     "output_type": "display_data"
    }
   ],
   "source": [
    "mplto.figure(figsize=(6,3))\n",
    "sear.histplot(dfn[dfn['Lloji'] == 0]['Nr.karaktereve'],color='green')\n",
    "sear.histplot(dfn[dfn['Lloji'] == 1]['Nr.karaktereve'],color='yellow')"
   ]
  },
  {
   "cell_type": "code",
   "execution_count": 25,
   "id": "ea6d5fb1-0c8d-4fc9-89cb-518bba011045",
   "metadata": {},
   "outputs": [
    {
     "data": {
      "text/plain": [
       "<Axes: xlabel='Nr.fjalëve', ylabel='Count'>"
      ]
     },
     "execution_count": 25,
     "metadata": {},
     "output_type": "execute_result"
    },
    {
     "data": {
      "image/png": "[encoded data removed]",
      "text/plain": [
       "<Figure size 600x300 with 1 Axes>"
      ]
     },
     "metadata": {},
     "output_type": "display_data"
    }
   ],
   "source": [
    "mplto.figure(figsize=(6,3))\n",
    "sear.histplot(dfn[dfn['Lloji'] == 0]['Nr.fjalëve'],color='green')\n",
    "sear.histplot(dfn[dfn['Lloji'] == 1]['Nr.fjalëve'],color='yellow')"
   ]
  },
  {
   "cell_type": "code",
   "execution_count": 26,
   "id": "48fe2c74-5524-4bac-94d1-49656beb8ade",
   "metadata": {},
   "outputs": [
    {
     "data": {
      "text/plain": [
       "<seaborn.axisgrid.PairGrid at 0x21ab9173590>"
      ]
     },
     "execution_count": 26,
     "metadata": {},
     "output_type": "execute_result"
    },
    {
     "data": {
      "image/png": "[encoded data removed]",
      "text/plain": [
       "<Figure size 808.875x750 with 12 Axes>"
      ]
     },
     "metadata": {},
     "output_type": "display_data"
    }
   ],
   "source": [
    "color_palette = {0: \"#33FF57\", 1: \"#FFFF00\"}\n",
    "sear.pairplot(dfn, hue='Lloji', palette=color_palette)"
   ]
  },
  {
   "cell_type": "code",
   "execution_count": null,
   "id": "11a79a3a-e32b-4e19-b6b6-8489b0da7698",
   "metadata": {},
   "outputs": [],
   "source": [
    "#DATA PROCESSING"
   ]
  },
  {
   "cell_type": "code",
   "execution_count": 27,
   "id": "e234b6e8-805b-438f-9fce-ccc4d6225b8a",
   "metadata": {},
   "outputs": [
    {
     "name": "stderr",
     "output_type": "stream",
     "text": [
      "[nltk_data] Downloading package stopwords to\n",
      "[nltk_data]     C:\\Users\\IT\\AppData\\Roaming\\nltk_data...\n",
      "[nltk_data]   Package stopwords is already up-to-date!\n"
     ]
    },
    {
     "data": {
      "text/plain": [
       "True"
      ]
     },
     "execution_count": 27,
     "metadata": {},
     "output_type": "execute_result"
    }
   ],
   "source": [
    "import nltk\n",
    "nltk.download('stopwords')"
   ]
  },
  {
   "cell_type": "code",
   "execution_count": 28,
   "id": "468fadf6-f4ab-49db-987d-cac5dc063f11",
   "metadata": {},
   "outputs": [],
   "source": [
    "import string\n",
    "from nltk.corpus import stopwords"
   ]
  },
  {
   "cell_type": "code",
   "execution_count": 32,
   "id": "05fb77f9-16e1-4cf1-9703-2f103d174613",
   "metadata": {},
   "outputs": [],
   "source": [
    "def transform_text(Tekst):\n",
    "    Tekst = Tekst.lower()\n",
    "    Tekst = nltk.word_tokenize(Tekst)\n",
    "    \n",
    "    a = []\n",
    "    for i in Tekst:\n",
    "        if i.isalnum():\n",
    "            a.append(i)\n",
    "    \n",
    "    Tekst = a[:]\n",
    "    a.clear()\n",
    "    \n",
    "    for i in Tekst:\n",
    "        if i not in stopwords.words('english') and i not in string.punctuation:\n",
    "            a.append(i)\n",
    "            \n",
    "    Tekst = a[:]\n",
    "    a.clear()\n",
    "    \n",
    "    for i in Tekst:\n",
    "        a.append(ps.stem(i))\n",
    "    \n",
    "            \n",
    "    return \" \".join(a)"
   ]
  },
  {
   "cell_type": "code",
   "execution_count": 37,
   "id": "9e06a647-ab44-484d-a287-69630f8d78c3",
   "metadata": {},
   "outputs": [
    {
     "data": {
      "text/plain": [
       "'go tri 2 month ha ha joke'"
      ]
     },
     "execution_count": 37,
     "metadata": {},
     "output_type": "execute_result"
    }
   ],
   "source": [
    "transform_text('I\\x89Û÷m going to try for 2 months ha ha only joking')"
   ]
  },
  {
   "cell_type": "code",
   "execution_count": 34,
   "id": "f636780a-10a2-4ff0-a56f-106cd43bf21a",
   "metadata": {},
   "outputs": [
    {
     "data": {
      "text/plain": [
       "'I\\x89Û÷m going to try for 2 months ha ha only joking'"
      ]
     },
     "execution_count": 34,
     "metadata": {},
     "output_type": "execute_result"
    }
   ],
   "source": [
    "dfn['Tekst'][21]"
   ]
  },
  {
   "cell_type": "code",
   "execution_count": 35,
   "id": "260cc9ff-7353-4fc0-b3df-f72f00ac4b9a",
   "metadata": {},
   "outputs": [
    {
     "data": {
      "text/plain": [
       "'run'"
      ]
     },
     "execution_count": 35,
     "metadata": {},
     "output_type": "execute_result"
    }
   ],
   "source": [
    "from nltk.stem.porter import PorterStemmer\n",
    "ps = PorterStemmer()\n",
    "ps.stem('running')"
   ]
  },
  {
   "cell_type": "code",
   "execution_count": 36,
   "id": "f504f29f-1452-4aee-94df-0fc32d6f8599",
   "metadata": {},
   "outputs": [],
   "source": [
    "dfn['Teksti_transformuar'] = dfn['Tekst'].apply(transform_text)"
   ]
  },
  {
   "cell_type": "code",
   "execution_count": 38,
   "id": "174eff9e-e190-4f1c-8e0e-c617ef86ff0f",
   "metadata": {},
   "outputs": [
    {
     "data": {
      "text/html": [
       "<div>\n",
       "<style scoped>\n",
       "    .dataframe tbody tr th:only-of-type {\n",
       "        vertical-align: middle;\n",
       "    }\n",
       "\n",
       "    .dataframe tbody tr th {\n",
       "        vertical-align: top;\n",
       "    }\n",
       "\n",
       "    .dataframe thead th {\n",
       "        text-align: right;\n",
       "    }\n",
       "</style>\n",
       "<table border=\"1\" class=\"dataframe\">\n",
       "  <thead>\n",
       "    <tr style=\"text-align: right;\">\n",
       "      <th></th>\n",
       "      <th>Lloji</th>\n",
       "      <th>Tekst</th>\n",
       "      <th>Nr.karaktereve</th>\n",
       "      <th>Nr.fjalëve</th>\n",
       "      <th>Nr.fjalive</th>\n",
       "      <th>Teksti_transformuar</th>\n",
       "    </tr>\n",
       "  </thead>\n",
       "  <tbody>\n",
       "    <tr>\n",
       "      <th>0</th>\n",
       "      <td>0</td>\n",
       "      <td>Go until jurong point, crazy.. Available only ...</td>\n",
       "      <td>111</td>\n",
       "      <td>24</td>\n",
       "      <td>2</td>\n",
       "      <td>go jurong point crazi avail bugi n great world...</td>\n",
       "    </tr>\n",
       "    <tr>\n",
       "      <th>1</th>\n",
       "      <td>0</td>\n",
       "      <td>Ok lar... Joking wif u oni...</td>\n",
       "      <td>29</td>\n",
       "      <td>8</td>\n",
       "      <td>2</td>\n",
       "      <td>ok lar joke wif u oni</td>\n",
       "    </tr>\n",
       "    <tr>\n",
       "      <th>2</th>\n",
       "      <td>1</td>\n",
       "      <td>Free entry in 2 a wkly comp to win FA Cup fina...</td>\n",
       "      <td>155</td>\n",
       "      <td>37</td>\n",
       "      <td>2</td>\n",
       "      <td>free entri 2 wkli comp win fa cup final tkt 21...</td>\n",
       "    </tr>\n",
       "    <tr>\n",
       "      <th>3</th>\n",
       "      <td>0</td>\n",
       "      <td>U dun say so early hor... U c already then say...</td>\n",
       "      <td>49</td>\n",
       "      <td>13</td>\n",
       "      <td>1</td>\n",
       "      <td>u dun say earli hor u c alreadi say</td>\n",
       "    </tr>\n",
       "    <tr>\n",
       "      <th>4</th>\n",
       "      <td>0</td>\n",
       "      <td>Nah I don't think he goes to usf, he lives aro...</td>\n",
       "      <td>61</td>\n",
       "      <td>15</td>\n",
       "      <td>1</td>\n",
       "      <td>nah think goe usf live around though</td>\n",
       "    </tr>\n",
       "  </tbody>\n",
       "</table>\n",
       "</div>"
      ],
      "text/plain": [
       "   Lloji                                              Tekst  Nr.karaktereve  \\\n",
       "0      0  Go until jurong point, crazy.. Available only ...             111   \n",
       "1      0                      Ok lar... Joking wif u oni...              29   \n",
       "2      1  Free entry in 2 a wkly comp to win FA Cup fina...             155   \n",
       "3      0  U dun say so early hor... U c already then say...              49   \n",
       "4      0  Nah I don't think he goes to usf, he lives aro...              61   \n",
       "\n",
       "   Nr.fjalëve  Nr.fjalive                                Teksti_transformuar  \n",
       "0          24           2  go jurong point crazi avail bugi n great world...  \n",
       "1           8           2                              ok lar joke wif u oni  \n",
       "2          37           2  free entri 2 wkli comp win fa cup final tkt 21...  \n",
       "3          13           1                u dun say earli hor u c alreadi say  \n",
       "4          15           1               nah think goe usf live around though  "
      ]
     },
     "execution_count": 38,
     "metadata": {},
     "output_type": "execute_result"
    }
   ],
   "source": [
    "dfn.head()"
   ]
  },
  {
   "cell_type": "code",
   "execution_count": 39,
   "id": "4e6a76e6-564f-45e6-bb17-24186d98c497",
   "metadata": {},
   "outputs": [],
   "source": [
    "from wordcloud import WordCloud\n",
    "wocl = WordCloud(width=400,height=400,min_font_size=10,background_color='grey')"
   ]
  },
  {
   "cell_type": "code",
   "execution_count": 40,
   "id": "e31a5e26-db94-4045-b251-36ed0ced6258",
   "metadata": {},
   "outputs": [],
   "source": [
    "spam_wocl = wocl.generate(dfn[dfn['Lloji'] == 1]['Teksti_transformuar'].str.cat(sep=\" \"))"
   ]
  },
  {
   "cell_type": "code",
   "execution_count": 41,
   "id": "ea1e11ea-b7b6-450d-8eba-436a1af3d13e",
   "metadata": {},
   "outputs": [
    {
     "data": {
      "text/plain": [
       "<matplotlib.image.AxesImage at 0x21abd277610>"
      ]
     },
     "execution_count": 41,
     "metadata": {},
     "output_type": "execute_result"
    },
    {
     "data": {
      "image/png": "[encoded data removed]",
      "text/plain": [
       "<Figure size 1000x300 with 1 Axes>"
      ]
     },
     "metadata": {},
     "output_type": "display_data"
    }
   ],
   "source": [
    "mplto.figure(figsize=(10,3))\n",
    "mplto.imshow(spam_wocl)"
   ]
  },
  {
   "cell_type": "code",
   "execution_count": 42,
   "id": "a6892509-70e4-451b-9723-285e804ceca4",
   "metadata": {},
   "outputs": [],
   "source": [
    "legjitime_wocl = wocl.generate(dfn[dfn['Lloji'] == 0]['Teksti_transformuar'].str.cat(sep=\" \"))"
   ]
  },
  {
   "cell_type": "code",
   "execution_count": 43,
   "id": "5954fdf4-a41b-47ba-860c-b35fb46caaf8",
   "metadata": {},
   "outputs": [
    {
     "data": {
      "text/plain": [
       "<matplotlib.image.AxesImage at 0x21abd284910>"
      ]
     },
     "execution_count": 43,
     "metadata": {},
     "output_type": "execute_result"
    },
    {
     "data": {
      "image/png": "[encoded data removed]",
      "text/plain": [
       "<Figure size 1000x300 with 1 Axes>"
      ]
     },
     "metadata": {},
     "output_type": "display_data"
    }
   ],
   "source": [
    "mplto.figure(figsize=(10,3))\n",
    "mplto.imshow(legjitime_wocl)"
   ]
  },
  {
   "cell_type": "code",
   "execution_count": 44,
   "id": "80298345-52e2-421f-ae36-83fa80e439e8",
   "metadata": {},
   "outputs": [],
   "source": [
    "from sklearn.feature_extraction.text import CountVectorizer,TfidfVectorizer\n",
    "cve = CountVectorizer()\n",
    "tfidfv = TfidfVectorizer(max_features=2500)"
   ]
  },
  {
   "cell_type": "code",
   "execution_count": 45,
   "id": "2fa4b388-2ca5-4a2f-9bd4-4c68d0c864bd",
   "metadata": {},
   "outputs": [],
   "source": [
    "X = tfidfv.fit_transform(dfn['Teksti_transformuar']).toarray()"
   ]
  },
  {
   "cell_type": "code",
   "execution_count": 46,
   "id": "e6272523-c2e8-442b-b89e-7b01f7ececf0",
   "metadata": {},
   "outputs": [
    {
     "data": {
      "text/plain": [
       "(5166, 2500)"
      ]
     },
     "execution_count": 46,
     "metadata": {},
     "output_type": "execute_result"
    }
   ],
   "source": [
    "X.shape"
   ]
  },
  {
   "cell_type": "code",
   "execution_count": 47,
   "id": "d19f4f11-eb1f-4155-96ef-c42abbb74fda",
   "metadata": {},
   "outputs": [],
   "source": [
    "a = dfn['Lloji'].values"
   ]
  },
  {
   "cell_type": "code",
   "execution_count": 49,
   "id": "f17ad500-ae68-47e5-993e-1bd4db7e591b",
   "metadata": {},
   "outputs": [],
   "source": [
    "from sklearn.model_selection import train_test_split"
   ]
  },
  {
   "cell_type": "code",
   "execution_count": 50,
   "id": "05f11505-fa14-4418-a8a3-0b0ea8748490",
   "metadata": {},
   "outputs": [],
   "source": [
    "X_train,X_test,a_train,a_test = train_test_split(X,a,test_size=0.2,random_state=2)"
   ]
  },
  {
   "cell_type": "code",
   "execution_count": 51,
   "id": "c97edf05-7be7-467f-b93d-0521a4a79a03",
   "metadata": {},
   "outputs": [],
   "source": [
    "from sklearn.naive_bayes import GaussianNB,MultinomialNB,BernoulliNB\n",
    "from sklearn.metrics import accuracy_score,confusion_matrix,precision_score"
   ]
  },
  {
   "cell_type": "code",
   "execution_count": 52,
   "id": "093f4f03-83e6-4f82-b517-6bbe8a8e774d",
   "metadata": {},
   "outputs": [],
   "source": [
    "ganb = GaussianNB()\n",
    "munb = MultinomialNB()\n",
    "benb = BernoulliNB()"
   ]
  },
  {
   "cell_type": "code",
   "execution_count": 53,
   "id": "faaee21e-1aa3-47c0-a257-637710b062e8",
   "metadata": {},
   "outputs": [
    {
     "name": "stdout",
     "output_type": "stream",
     "text": [
      "0.8471953578336557\n",
      "[[768 131]\n",
      " [ 27 108]]\n"
     ]
    }
   ],
   "source": [
    "ganb.fit(X_train,a_train)\n",
    "a_pred1 = ganb.predict(X_test)\n",
    "print(accuracy_score(a_test,a_pred1))\n",
    "print(confusion_matrix(a_test,a_pred1))"
   ]
  },
  {
   "cell_type": "code",
   "execution_count": 54,
   "id": "f55c2e39-902e-4db7-951e-3585e8b705e0",
   "metadata": {},
   "outputs": [
    {
     "name": "stdout",
     "output_type": "stream",
     "text": [
      "0.9748549323017408\n",
      "[[899   0]\n",
      " [ 26 109]]\n",
      "1.0\n"
     ]
    }
   ],
   "source": [
    "munb.fit(X_train,a_train)\n",
    "a_pred2 = munb.predict(X_test)\n",
    "print(accuracy_score(a_test,a_pred2))\n",
    "print(confusion_matrix(a_test,a_pred2))\n",
    "print(precision_score(a_test,a_pred2))"
   ]
  },
  {
   "cell_type": "code",
   "execution_count": 55,
   "id": "3b75ee2f-5b7a-467f-a8cf-ba8e3d7c40a8",
   "metadata": {},
   "outputs": [
    {
     "name": "stdout",
     "output_type": "stream",
     "text": [
      "0.9825918762088974\n",
      "[[897   2]\n",
      " [ 16 119]]\n",
      "0.9834710743801653\n"
     ]
    }
   ],
   "source": [
    "benb.fit(X_train,a_train)\n",
    "a_pred3 = benb.predict(X_test)\n",
    "print(accuracy_score(a_test,a_pred3))\n",
    "print(confusion_matrix(a_test,a_pred3))\n",
    "print(precision_score(a_test,a_pred3))"
   ]
  },
  {
   "cell_type": "code",
   "execution_count": 56,
   "id": "95e38e3c-e7c4-40fc-8e4a-dd4faaff2728",
   "metadata": {},
   "outputs": [],
   "source": [
    "from sklearn.linear_model import LogisticRegression\n",
    "from sklearn.svm import SVC\n",
    "from sklearn.naive_bayes import MultinomialNB\n",
    "from sklearn.tree import DecisionTreeClassifier\n",
    "from sklearn.neighbors import KNeighborsClassifier\n",
    "from sklearn.ensemble import RandomForestClassifier\n",
    "from sklearn.ensemble import AdaBoostClassifier\n",
    "from sklearn.ensemble import BaggingClassifier\n",
    "from sklearn.ensemble import ExtraTreesClassifier\n",
    "from sklearn.ensemble import GradientBoostingClassifier"
   ]
  },
  {
   "cell_type": "code",
   "execution_count": 57,
   "id": "9ba8f89e-ecb5-420c-8148-79b755068bbd",
   "metadata": {},
   "outputs": [],
   "source": [
    "svc = SVC(kernel='sigmoid', gamma=1.0)\n",
    "knc = KNeighborsClassifier()\n",
    "munb = MultinomialNB()\n",
    "dtc = DecisionTreeClassifier(max_depth=5)\n",
    "lrc = LogisticRegression(solver='liblinear', penalty='l1')\n",
    "rfc = RandomForestClassifier(n_estimators=50, random_state=2)\n",
    "abc = AdaBoostClassifier(n_estimators=50, random_state=2)\n",
    "bc = BaggingClassifier(n_estimators=50, random_state=2)\n",
    "etc = ExtraTreesClassifier(n_estimators=50, random_state=2)\n",
    "gbc = GradientBoostingClassifier(n_estimators=50,random_state=2)"
   ]
  },
  {
   "cell_type": "code",
   "execution_count": 58,
   "id": "c06b447a-8d91-404a-9617-da1ffb74e333",
   "metadata": {},
   "outputs": [],
   "source": [
    "classifie = {\n",
    "    'SVC' : svc,\n",
    "    'KN' : knc, \n",
    "    'NB': munb, \n",
    "    'DT': dtc, \n",
    "    'LR': lrc, \n",
    "    'RF': rfc, \n",
    "    'AdaBoost': abc, \n",
    "    'BgC': bc, \n",
    "    'ETC': etc,\n",
    "    'GBDT':gbc\n",
    "    \n",
    "}"
   ]
  },
  {
   "cell_type": "code",
   "execution_count": 60,
   "id": "19e5a2c4-7dc0-447d-acbd-3eacc98c1d03",
   "metadata": {},
   "outputs": [],
   "source": [
    "def training_classifier(clf,X_train,a_train,X_test,a_test):\n",
    "    clf.fit(X_train,a_train)\n",
    "    a_pred = clf.predict(X_test)\n",
    "    accuracy = accuracy_score(a_test,a_pred)\n",
    "    precision = precision_score(a_test,a_pred)\n",
    "    \n",
    "    return accuracy,precision"
   ]
  },
  {
   "cell_type": "code",
   "execution_count": 61,
   "id": "cdd65d33-01cc-4d4b-8993-17c53164c865",
   "metadata": {},
   "outputs": [
    {
     "data": {
      "text/plain": [
       "(0.971953578336557, 0.9732142857142857)"
      ]
     },
     "execution_count": 61,
     "metadata": {},
     "output_type": "execute_result"
    }
   ],
   "source": [
    "training_classifier(svc,X_train,a_train,X_test,a_test)"
   ]
  },
  {
   "cell_type": "code",
   "execution_count": 62,
   "id": "76aaa7f3-da17-4d9d-9a7a-f69170135086",
   "metadata": {},
   "outputs": [
    {
     "name": "stdout",
     "output_type": "stream",
     "text": [
      "For  SVC\n",
      "Accuracy -  0.971953578336557\n",
      "Precision -  0.9732142857142857\n",
      "For  KN\n",
      "Accuracy -  0.9129593810444874\n",
      "Precision -  0.9787234042553191\n",
      "For  NB\n",
      "Accuracy -  0.9748549323017408\n",
      "Precision -  1.0\n",
      "For  DT\n",
      "Accuracy -  0.937137330754352\n",
      "Precision -  0.8181818181818182\n",
      "For  LR\n",
      "Accuracy -  0.9545454545454546\n",
      "Precision -  0.94\n",
      "For  RF\n",
      "Accuracy -  0.97678916827853\n",
      "Precision -  1.0\n",
      "For  AdaBoost\n",
      "Accuracy -  0.9613152804642167\n",
      "Precision -  0.9439252336448598\n",
      "For  BgC\n",
      "Accuracy -  0.9584139264990329\n",
      "Precision -  0.8484848484848485\n",
      "For  ETC\n",
      "Accuracy -  0.9806576402321083\n",
      "Precision -  1.0\n",
      "For  GBDT\n",
      "Accuracy -  0.9526112185686654\n",
      "Precision -  0.9387755102040817\n"
     ]
    }
   ],
   "source": [
    "accuracy_scores = []\n",
    "precision_scores = []\n",
    "\n",
    "for name,clf in classifie.items():\n",
    "    \n",
    "    current_accuracy,current_precision = training_classifier(clf, X_train,a_train,X_test,a_test)\n",
    "    \n",
    "    print(\"For \",name)\n",
    "    print(\"Accuracy - \",current_accuracy)\n",
    "    print(\"Precision - \",current_precision)\n",
    "    \n",
    "    accuracy_scores.append(current_accuracy)\n",
    "    precision_scores.append(current_precision)"
   ]
  },
  {
   "cell_type": "code",
   "execution_count": 65,
   "id": "9f2f7f43-9792-492e-91dc-eacd63a30b1a",
   "metadata": {},
   "outputs": [],
   "source": [
    "perform_dfn = pad.DataFrame({'Algoritmi':classifie.keys(),'Saktësia':accuracy_scores,'Precizioni':precision_scores})"
   ]
  },
  {
   "cell_type": "code",
   "execution_count": 66,
   "id": "dd48f38e-a382-40df-9729-a286450c7318",
   "metadata": {},
   "outputs": [
    {
     "data": {
      "text/html": [
       "<div>\n",
       "<style scoped>\n",
       "    .dataframe tbody tr th:only-of-type {\n",
       "        vertical-align: middle;\n",
       "    }\n",
       "\n",
       "    .dataframe tbody tr th {\n",
       "        vertical-align: top;\n",
       "    }\n",
       "\n",
       "    .dataframe thead th {\n",
       "        text-align: right;\n",
       "    }\n",
       "</style>\n",
       "<table border=\"1\" class=\"dataframe\">\n",
       "  <thead>\n",
       "    <tr style=\"text-align: right;\">\n",
       "      <th></th>\n",
       "      <th>Algoritmi</th>\n",
       "      <th>Saktësia</th>\n",
       "      <th>Precizioni</th>\n",
       "    </tr>\n",
       "  </thead>\n",
       "  <tbody>\n",
       "    <tr>\n",
       "      <th>0</th>\n",
       "      <td>SVC</td>\n",
       "      <td>0.971954</td>\n",
       "      <td>0.973214</td>\n",
       "    </tr>\n",
       "    <tr>\n",
       "      <th>1</th>\n",
       "      <td>KN</td>\n",
       "      <td>0.912959</td>\n",
       "      <td>0.978723</td>\n",
       "    </tr>\n",
       "    <tr>\n",
       "      <th>2</th>\n",
       "      <td>NB</td>\n",
       "      <td>0.974855</td>\n",
       "      <td>1.000000</td>\n",
       "    </tr>\n",
       "    <tr>\n",
       "      <th>3</th>\n",
       "      <td>DT</td>\n",
       "      <td>0.937137</td>\n",
       "      <td>0.818182</td>\n",
       "    </tr>\n",
       "    <tr>\n",
       "      <th>4</th>\n",
       "      <td>LR</td>\n",
       "      <td>0.954545</td>\n",
       "      <td>0.940000</td>\n",
       "    </tr>\n",
       "    <tr>\n",
       "      <th>5</th>\n",
       "      <td>RF</td>\n",
       "      <td>0.976789</td>\n",
       "      <td>1.000000</td>\n",
       "    </tr>\n",
       "    <tr>\n",
       "      <th>6</th>\n",
       "      <td>AdaBoost</td>\n",
       "      <td>0.961315</td>\n",
       "      <td>0.943925</td>\n",
       "    </tr>\n",
       "    <tr>\n",
       "      <th>7</th>\n",
       "      <td>BgC</td>\n",
       "      <td>0.958414</td>\n",
       "      <td>0.848485</td>\n",
       "    </tr>\n",
       "    <tr>\n",
       "      <th>8</th>\n",
       "      <td>ETC</td>\n",
       "      <td>0.980658</td>\n",
       "      <td>1.000000</td>\n",
       "    </tr>\n",
       "    <tr>\n",
       "      <th>9</th>\n",
       "      <td>GBDT</td>\n",
       "      <td>0.952611</td>\n",
       "      <td>0.938776</td>\n",
       "    </tr>\n",
       "  </tbody>\n",
       "</table>\n",
       "</div>"
      ],
      "text/plain": [
       "  Algoritmi  Saktësia  Precizioni\n",
       "0       SVC  0.971954    0.973214\n",
       "1        KN  0.912959    0.978723\n",
       "2        NB  0.974855    1.000000\n",
       "3        DT  0.937137    0.818182\n",
       "4        LR  0.954545    0.940000\n",
       "5        RF  0.976789    1.000000\n",
       "6  AdaBoost  0.961315    0.943925\n",
       "7       BgC  0.958414    0.848485\n",
       "8       ETC  0.980658    1.000000\n",
       "9      GBDT  0.952611    0.938776"
      ]
     },
     "execution_count": 66,
     "metadata": {},
     "output_type": "execute_result"
    }
   ],
   "source": [
    "perform_dfn"
   ]
  },
  {
   "cell_type": "code",
   "execution_count": 67,
   "id": "13efbb7a-48c1-4716-8619-73b3d7010c59",
   "metadata": {},
   "outputs": [],
   "source": [
    "perform_dfn1 = pad.melt(perform_dfn, id_vars = \"Algoritmi\")"
   ]
  },
  {
   "cell_type": "code",
   "execution_count": 68,
   "id": "d7b4dff9-caaf-48ac-9e75-7f5e309550f9",
   "metadata": {},
   "outputs": [
    {
     "data": {
      "text/html": [
       "<div>\n",
       "<style scoped>\n",
       "    .dataframe tbody tr th:only-of-type {\n",
       "        vertical-align: middle;\n",
       "    }\n",
       "\n",
       "    .dataframe tbody tr th {\n",
       "        vertical-align: top;\n",
       "    }\n",
       "\n",
       "    .dataframe thead th {\n",
       "        text-align: right;\n",
       "    }\n",
       "</style>\n",
       "<table border=\"1\" class=\"dataframe\">\n",
       "  <thead>\n",
       "    <tr style=\"text-align: right;\">\n",
       "      <th></th>\n",
       "      <th>Algoritmi</th>\n",
       "      <th>variable</th>\n",
       "      <th>value</th>\n",
       "    </tr>\n",
       "  </thead>\n",
       "  <tbody>\n",
       "    <tr>\n",
       "      <th>0</th>\n",
       "      <td>SVC</td>\n",
       "      <td>Saktësia</td>\n",
       "      <td>0.971954</td>\n",
       "    </tr>\n",
       "    <tr>\n",
       "      <th>1</th>\n",
       "      <td>KN</td>\n",
       "      <td>Saktësia</td>\n",
       "      <td>0.912959</td>\n",
       "    </tr>\n",
       "    <tr>\n",
       "      <th>2</th>\n",
       "      <td>NB</td>\n",
       "      <td>Saktësia</td>\n",
       "      <td>0.974855</td>\n",
       "    </tr>\n",
       "    <tr>\n",
       "      <th>3</th>\n",
       "      <td>DT</td>\n",
       "      <td>Saktësia</td>\n",
       "      <td>0.937137</td>\n",
       "    </tr>\n",
       "    <tr>\n",
       "      <th>4</th>\n",
       "      <td>LR</td>\n",
       "      <td>Saktësia</td>\n",
       "      <td>0.954545</td>\n",
       "    </tr>\n",
       "    <tr>\n",
       "      <th>5</th>\n",
       "      <td>RF</td>\n",
       "      <td>Saktësia</td>\n",
       "      <td>0.976789</td>\n",
       "    </tr>\n",
       "    <tr>\n",
       "      <th>6</th>\n",
       "      <td>AdaBoost</td>\n",
       "      <td>Saktësia</td>\n",
       "      <td>0.961315</td>\n",
       "    </tr>\n",
       "    <tr>\n",
       "      <th>7</th>\n",
       "      <td>BgC</td>\n",
       "      <td>Saktësia</td>\n",
       "      <td>0.958414</td>\n",
       "    </tr>\n",
       "    <tr>\n",
       "      <th>8</th>\n",
       "      <td>ETC</td>\n",
       "      <td>Saktësia</td>\n",
       "      <td>0.980658</td>\n",
       "    </tr>\n",
       "    <tr>\n",
       "      <th>9</th>\n",
       "      <td>GBDT</td>\n",
       "      <td>Saktësia</td>\n",
       "      <td>0.952611</td>\n",
       "    </tr>\n",
       "    <tr>\n",
       "      <th>10</th>\n",
       "      <td>SVC</td>\n",
       "      <td>Precizioni</td>\n",
       "      <td>0.973214</td>\n",
       "    </tr>\n",
       "    <tr>\n",
       "      <th>11</th>\n",
       "      <td>KN</td>\n",
       "      <td>Precizioni</td>\n",
       "      <td>0.978723</td>\n",
       "    </tr>\n",
       "    <tr>\n",
       "      <th>12</th>\n",
       "      <td>NB</td>\n",
       "      <td>Precizioni</td>\n",
       "      <td>1.000000</td>\n",
       "    </tr>\n",
       "    <tr>\n",
       "      <th>13</th>\n",
       "      <td>DT</td>\n",
       "      <td>Precizioni</td>\n",
       "      <td>0.818182</td>\n",
       "    </tr>\n",
       "    <tr>\n",
       "      <th>14</th>\n",
       "      <td>LR</td>\n",
       "      <td>Precizioni</td>\n",
       "      <td>0.940000</td>\n",
       "    </tr>\n",
       "    <tr>\n",
       "      <th>15</th>\n",
       "      <td>RF</td>\n",
       "      <td>Precizioni</td>\n",
       "      <td>1.000000</td>\n",
       "    </tr>\n",
       "    <tr>\n",
       "      <th>16</th>\n",
       "      <td>AdaBoost</td>\n",
       "      <td>Precizioni</td>\n",
       "      <td>0.943925</td>\n",
       "    </tr>\n",
       "    <tr>\n",
       "      <th>17</th>\n",
       "      <td>BgC</td>\n",
       "      <td>Precizioni</td>\n",
       "      <td>0.848485</td>\n",
       "    </tr>\n",
       "    <tr>\n",
       "      <th>18</th>\n",
       "      <td>ETC</td>\n",
       "      <td>Precizioni</td>\n",
       "      <td>1.000000</td>\n",
       "    </tr>\n",
       "    <tr>\n",
       "      <th>19</th>\n",
       "      <td>GBDT</td>\n",
       "      <td>Precizioni</td>\n",
       "      <td>0.938776</td>\n",
       "    </tr>\n",
       "  </tbody>\n",
       "</table>\n",
       "</div>"
      ],
      "text/plain": [
       "   Algoritmi    variable     value\n",
       "0        SVC    Saktësia  0.971954\n",
       "1         KN    Saktësia  0.912959\n",
       "2         NB    Saktësia  0.974855\n",
       "3         DT    Saktësia  0.937137\n",
       "4         LR    Saktësia  0.954545\n",
       "5         RF    Saktësia  0.976789\n",
       "6   AdaBoost    Saktësia  0.961315\n",
       "7        BgC    Saktësia  0.958414\n",
       "8        ETC    Saktësia  0.980658\n",
       "9       GBDT    Saktësia  0.952611\n",
       "10       SVC  Precizioni  0.973214\n",
       "11        KN  Precizioni  0.978723\n",
       "12        NB  Precizioni  1.000000\n",
       "13        DT  Precizioni  0.818182\n",
       "14        LR  Precizioni  0.940000\n",
       "15        RF  Precizioni  1.000000\n",
       "16  AdaBoost  Precizioni  0.943925\n",
       "17       BgC  Precizioni  0.848485\n",
       "18       ETC  Precizioni  1.000000\n",
       "19      GBDT  Precizioni  0.938776"
      ]
     },
     "execution_count": 68,
     "metadata": {},
     "output_type": "execute_result"
    }
   ],
   "source": [
    "perform_dfn1"
   ]
  },
  {
   "cell_type": "code",
   "execution_count": 71,
   "id": "a6658c1f-ca6e-45ec-95f7-c87b1a5e3745",
   "metadata": {},
   "outputs": [
    {
     "data": {
      "image/png": "[encoded data removed]",
      "text/plain": [
       "<Figure size 616x500 with 1 Axes>"
      ]
     },
     "metadata": {},
     "output_type": "display_data"
    }
   ],
   "source": [
    "sear.catplot(x = 'Algoritmi', y='value', \n",
    "               hue = 'variable',data=perform_dfn1, kind='bar',height=5)\n",
    "mplto.ylim(0.5,1.0)\n",
    "mplto.xticks(rotation='vertical')\n",
    "mplto.show()"
   ]
  },
  {
   "cell_type": "code",
   "execution_count": 73,
   "id": "527f4c27-b614-4e8d-926f-f554d7c685e5",
   "metadata": {},
   "outputs": [],
   "source": [
    "# Voting Classifier\n",
    "svc = SVC(kernel='sigmoid', gamma=1.0,probability=True)\n",
    "munb = MultinomialNB()\n",
    "etc = ExtraTreesClassifier(n_estimators=50, random_state=2)\n",
    "\n",
    "from sklearn.ensemble import VotingClassifier"
   ]
  },
  {
   "cell_type": "code",
   "execution_count": 75,
   "id": "af2b8398-eb6e-469a-aa7b-46d7f79a71fa",
   "metadata": {},
   "outputs": [],
   "source": [
    "voting = VotingClassifier(estimators=[('svm', svc), ('nb', munb), ('et', etc)],voting='soft')"
   ]
  },
  {
   "cell_type": "code",
   "execution_count": 76,
   "id": "f287f33d-c973-4645-8a32-5ba015c47d97",
   "metadata": {},
   "outputs": [
    {
     "data": {
      "text/html": [
       "<style>#sk-container-id-1 {color: black;}#sk-container-id-1 pre{padding: 0;}#sk-container-id-1 div.sk-toggleable {background-color: white;}#sk-container-id-1 label.sk-toggleable__label {cursor: pointer;display: block;width: 100%;margin-bottom: 0;padding: 0.3em;box-sizing: border-box;text-align: center;}#sk-container-id-1 label.sk-toggleable__label-arrow:before {content: \"▸\";float: left;margin-right: 0.25em;color: #696969;}#sk-container-id-1 label.sk-toggleable__label-arrow:hover:before {color: black;}#sk-container-id-1 div.sk-estimator:hover label.sk-toggleable__label-arrow:before {color: black;}#sk-container-id-1 div.sk-toggleable__content {max-height: 0;max-width: 0;overflow: hidden;text-align: left;background-color: #f0f8ff;}#sk-container-id-1 div.sk-toggleable__content pre {margin: 0.2em;color: black;border-radius: 0.25em;background-color: #f0f8ff;}#sk-container-id-1 input.sk-toggleable__control:checked~div.sk-toggleable__content {max-height: 200px;max-width: 100%;overflow: auto;}#sk-container-id-1 input.sk-toggleable__control:checked~label.sk-toggleable__label-arrow:before {content: \"▾\";}#sk-container-id-1 div.sk-estimator input.sk-toggleable__control:checked~label.sk-toggleable__label {background-color: #d4ebff;}#sk-container-id-1 div.sk-label input.sk-toggleable__control:checked~label.sk-toggleable__label {background-color: #d4ebff;}#sk-container-id-1 input.sk-hidden--visually {border: 0;clip: rect(1px 1px 1px 1px);clip: rect(1px, 1px, 1px, 1px);height: 1px;margin: -1px;overflow: hidden;padding: 0;position: absolute;width: 1px;}#sk-container-id-1 div.sk-estimator {font-family: monospace;background-color: #f0f8ff;border: 1px dotted black;border-radius: 0.25em;box-sizing: border-box;margin-bottom: 0.5em;}#sk-container-id-1 div.sk-estimator:hover {background-color: #d4ebff;}#sk-container-id-1 div.sk-parallel-item::after {content: \"\";width: 100%;border-bottom: 1px solid gray;flex-grow: 1;}#sk-container-id-1 div.sk-label:hover label.sk-toggleable__label {background-color: #d4ebff;}#sk-container-id-1 div.sk-serial::before {content: \"\";position: absolute;border-left: 1px solid gray;box-sizing: border-box;top: 0;bottom: 0;left: 50%;z-index: 0;}#sk-container-id-1 div.sk-serial {display: flex;flex-direction: column;align-items: center;background-color: white;padding-right: 0.2em;padding-left: 0.2em;position: relative;}#sk-container-id-1 div.sk-item {position: relative;z-index: 1;}#sk-container-id-1 div.sk-parallel {display: flex;align-items: stretch;justify-content: center;background-color: white;position: relative;}#sk-container-id-1 div.sk-item::before, #sk-container-id-1 div.sk-parallel-item::before {content: \"\";position: absolute;border-left: 1px solid gray;box-sizing: border-box;top: 0;bottom: 0;left: 50%;z-index: -1;}#sk-container-id-1 div.sk-parallel-item {display: flex;flex-direction: column;z-index: 1;position: relative;background-color: white;}#sk-container-id-1 div.sk-parallel-item:first-child::after {align-self: flex-end;width: 50%;}#sk-container-id-1 div.sk-parallel-item:last-child::after {align-self: flex-start;width: 50%;}#sk-container-id-1 div.sk-parallel-item:only-child::after {width: 0;}#sk-container-id-1 div.sk-dashed-wrapped {border: 1px dashed gray;margin: 0 0.4em 0.5em 0.4em;box-sizing: border-box;padding-bottom: 0.4em;background-color: white;}#sk-container-id-1 div.sk-label label {font-family: monospace;font-weight: bold;display: inline-block;line-height: 1.2em;}#sk-container-id-1 div.sk-label-container {text-align: center;}#sk-container-id-1 div.sk-container {/* jupyter's `normalize.less` sets `[hidden] { display: none; }` but bootstrap.min.css set `[hidden] { display: none !important; }` so we also need the `!important` here to be able to override the default hidden behavior on the sphinx rendered scikit-learn.org. See: https://github.com/scikit-learn/scikit-learn/issues/21755 */display: inline-block !important;position: relative;}#sk-container-id-1 div.sk-text-repr-fallback {display: none;}</style><div id=\"sk-container-id-1\" class=\"sk-top-container\"><div class=\"sk-text-repr-fallback\"><pre>VotingClassifier(estimators=[(&#x27;svm&#x27;,\n",
       "                              SVC(gamma=1.0, kernel=&#x27;sigmoid&#x27;,\n",
       "                                  probability=True)),\n",
       "                             (&#x27;nb&#x27;, MultinomialNB()),\n",
       "                             (&#x27;et&#x27;,\n",
       "                              ExtraTreesClassifier(n_estimators=50,\n",
       "                                                   random_state=2))],\n",
       "                 voting=&#x27;soft&#x27;)</pre><b>In a Jupyter environment, please rerun this cell to show the HTML representation or trust the notebook. <br />On GitHub, the HTML representation is unable to render, please try loading this page with nbviewer.org.</b></div><div class=\"sk-container\" hidden><div class=\"sk-item sk-dashed-wrapped\"><div class=\"sk-label-container\"><div class=\"sk-label sk-toggleable\"><input class=\"sk-toggleable__control sk-hidden--visually\" id=\"sk-estimator-id-1\" type=\"checkbox\" ><label for=\"sk-estimator-id-1\" class=\"sk-toggleable__label sk-toggleable__label-arrow\">VotingClassifier</label><div class=\"sk-toggleable__content\"><pre>VotingClassifier(estimators=[(&#x27;svm&#x27;,\n",
       "                              SVC(gamma=1.0, kernel=&#x27;sigmoid&#x27;,\n",
       "                                  probability=True)),\n",
       "                             (&#x27;nb&#x27;, MultinomialNB()),\n",
       "                             (&#x27;et&#x27;,\n",
       "                              ExtraTreesClassifier(n_estimators=50,\n",
       "                                                   random_state=2))],\n",
       "                 voting=&#x27;soft&#x27;)</pre></div></div></div><div class=\"sk-parallel\"><div class=\"sk-parallel-item\"><div class=\"sk-item\"><div class=\"sk-label-container\"><div class=\"sk-label sk-toggleable\"><label>svm</label></div></div><div class=\"sk-serial\"><div class=\"sk-item\"><div class=\"sk-estimator sk-toggleable\"><input class=\"sk-toggleable__control sk-hidden--visually\" id=\"sk-estimator-id-2\" type=\"checkbox\" ><label for=\"sk-estimator-id-2\" class=\"sk-toggleable__label sk-toggleable__label-arrow\">SVC</label><div class=\"sk-toggleable__content\"><pre>SVC(gamma=1.0, kernel=&#x27;sigmoid&#x27;, probability=True)</pre></div></div></div></div></div></div><div class=\"sk-parallel-item\"><div class=\"sk-item\"><div class=\"sk-label-container\"><div class=\"sk-label sk-toggleable\"><label>nb</label></div></div><div class=\"sk-serial\"><div class=\"sk-item\"><div class=\"sk-estimator sk-toggleable\"><input class=\"sk-toggleable__control sk-hidden--visually\" id=\"sk-estimator-id-3\" type=\"checkbox\" ><label for=\"sk-estimator-id-3\" class=\"sk-toggleable__label sk-toggleable__label-arrow\">MultinomialNB</label><div class=\"sk-toggleable__content\"><pre>MultinomialNB()</pre></div></div></div></div></div></div><div class=\"sk-parallel-item\"><div class=\"sk-item\"><div class=\"sk-label-container\"><div class=\"sk-label sk-toggleable\"><label>et</label></div></div><div class=\"sk-serial\"><div class=\"sk-item\"><div class=\"sk-estimator sk-toggleable\"><input class=\"sk-toggleable__control sk-hidden--visually\" id=\"sk-estimator-id-4\" type=\"checkbox\" ><label for=\"sk-estimator-id-4\" class=\"sk-toggleable__label sk-toggleable__label-arrow\">ExtraTreesClassifier</label><div class=\"sk-toggleable__content\"><pre>ExtraTreesClassifier(n_estimators=50, random_state=2)</pre></div></div></div></div></div></div></div></div></div></div>"
      ],
      "text/plain": [
       "VotingClassifier(estimators=[('svm',\n",
       "                              SVC(gamma=1.0, kernel='sigmoid',\n",
       "                                  probability=True)),\n",
       "                             ('nb', MultinomialNB()),\n",
       "                             ('et',\n",
       "                              ExtraTreesClassifier(n_estimators=50,\n",
       "                                                   random_state=2))],\n",
       "                 voting='soft')"
      ]
     },
     "execution_count": 76,
     "metadata": {},
     "output_type": "execute_result"
    }
   ],
   "source": [
    "voting.fit(X_train,a_train)"
   ]
  },
  {
   "cell_type": "code",
   "execution_count": 80,
   "id": "bfa2a479-32f5-47b4-a878-a6a330642cd9",
   "metadata": {},
   "outputs": [
    {
     "name": "stdout",
     "output_type": "stream",
     "text": [
      "Accuracy 0.9825918762088974\n",
      "Precision 1.0\n"
     ]
    }
   ],
   "source": [
    "a_predict = voting.predict(X_test)\n",
    "print(\"Accuracy\",accuracy_score(a_test,a_predict))\n",
    "print(\"Precision\",precision_score(a_test,a_predict))"
   ]
  },
  {
   "cell_type": "code",
   "execution_count": 81,
   "id": "aa8ff405-42bb-4ebf-a292-46fce154c164",
   "metadata": {},
   "outputs": [],
   "source": [
    "# Applying stacking\n",
    "est=[('svm', svc), ('nb', munb), ('et', etc)]\n",
    "final_est=RandomForestClassifier()"
   ]
  },
  {
   "cell_type": "code",
   "execution_count": 82,
   "id": "259fae10-a3d1-426c-8252-c676f5fc6bf0",
   "metadata": {},
   "outputs": [],
   "source": [
    "from sklearn.ensemble import StackingClassifier"
   ]
  },
  {
   "cell_type": "code",
   "execution_count": 84,
   "id": "fb751d77-f4bf-4ada-b0e3-dd4596b0c7a0",
   "metadata": {},
   "outputs": [],
   "source": [
    "clf = StackingClassifier(estimators=est, final_estimator=final_est)"
   ]
  },
  {
   "cell_type": "code",
   "execution_count": 86,
   "id": "714de788-4630-4cf1-b4ea-8a7b632edd65",
   "metadata": {},
   "outputs": [
    {
     "name": "stdout",
     "output_type": "stream",
     "text": [
      "Accuracy 0.9835589941972921\n",
      "Precision 0.9836065573770492\n"
     ]
    }
   ],
   "source": [
    "clf.fit(X_train,a_train)\n",
    "a_predict = clf.predict(X_test)\n",
    "print(\"Accuracy\",accuracy_score(a_test,a_predict))\n",
    "print(\"Precision\",precision_score(a_test,a_predict))"
   ]
  },
  {
   "cell_type": "code",
   "execution_count": null,
   "id": "70cd6c56-50a8-4265-b63f-fa5b4093ae66",
   "metadata": {},
   "outputs": [],
   "source": []
  }
 ],
 "metadata": {
  "kernelspec": {
   "display_name": "Python 3 (ipykernel)",
   "language": "python",
   "name": "python3"
  },
  "language_info": {
   "codemirror_mode": {
    "name": "ipython",
    "version": 3
   },
   "file_extension": ".py",
   "mimetype": "text/x-python",
   "name": "python",
   "nbconvert_exporter": "python",
   "pygments_lexer": "ipython3",
   "version": "3.11.5"
  }
 },
 "nbformat": 4,
 "nbformat_minor": 5
}
